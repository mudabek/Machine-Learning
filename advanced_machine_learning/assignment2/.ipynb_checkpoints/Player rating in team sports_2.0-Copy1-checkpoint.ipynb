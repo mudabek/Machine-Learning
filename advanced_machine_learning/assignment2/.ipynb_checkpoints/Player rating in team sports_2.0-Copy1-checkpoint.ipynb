{
 "cells": [
  {
   "cell_type": "markdown",
   "metadata": {},
   "source": [
    "# Предсказание рейтингов игроков спортивного \"Что? Где? Когда?\""
   ]
  },
  {
   "cell_type": "markdown",
   "metadata": {},
   "source": [
    "**Background**: в спортивном “Что? Где? Когда?” соревнующиеся команды отвечают на одни и те же вопросы. После минуты обсуждения команды записывают и сдают свои ответы на карточках; побеждает тот, кто ответил на большее число вопросов. Турнир обычно состоит из нескольких десятков вопросов (обычно 36 или 45, иногда 60, больше редко). Часто бывают синхронные турниры, когда на одни и те же вопросы отвечают команды на сотнях игровых площадок по всему миру, т.е. в одном турнире могут играть сотни, а то и тысячи команд. Соответственно, нам нужно: <br> <br>\n",
    "- построить рейтинг-лист, который способен нетривиально предсказывать результаты будущих турниров;<br> <br>\n",
    "- при этом, поскольку ЧГК — это хобби, и контрактов тут никаких нет, игроки постоянно переходят из команды в команду, сильный игрок может на один турнир сесть поиграть за другую команду и т.д.; поэтому единицей рейтинг-листа должна быть не команда, а отдельный игрок;<br> <br>\n",
    "- а что сильно упрощает задачу и переводит её в область домашних заданий на EM-алгоритм — это характер данных: начиная с какого-то момента, в базу результатов начали вносить все повопросные результаты команд, т.е. в данных будут записи вида “какая команда на какой вопрос правильно ответила”."
   ]
  },
  {
   "cell_type": "code",
   "execution_count": 1,
   "metadata": {},
   "outputs": [],
   "source": [
    "# imports\n",
    "import numpy as np\n",
    "import pandas as pd\n",
    "from scipy.sparse import csr_matrix\n",
    "import pickle\n",
    "from collections import Counter\n",
    "\n",
    "from sklearn.linear_model import LogisticRegression, LinearRegression\n",
    "\n",
    "import pdb"
   ]
  },
  {
   "cell_type": "markdown",
   "metadata": {},
   "source": [
    "### 1. Processing data "
   ]
  },
  {
   "cell_type": "code",
   "execution_count": 2,
   "metadata": {},
   "outputs": [],
   "source": [
    "tournaments = pickle.load(open('tournaments.pkl', 'rb'))\n",
    "results = pickle.load(open('results.pkl', 'rb'))"
   ]
  },
  {
   "cell_type": "code",
   "execution_count": 3,
   "metadata": {},
   "outputs": [],
   "source": [
    "# get id of tournaments for specific year\n",
    "def get_tournaments_id(year):\n",
    "    cur_tournaments = [v for k,v in tournaments.items() if v['dateStart'][:4] == year]\n",
    "    tournaments_with_results = [v for idx, v in enumerate(cur_tournaments) if v['id'] in results and results[v['id']] != []]\n",
    "    tournaments_with_results_mask = [v for idx, v in enumerate(tournaments_with_results) if 'mask' in results[v['id']][0]]\n",
    "    return [v['id'] for v in tournaments_with_results_mask]\n",
    "\n",
    "# keep only useful ids in results\n",
    "def clean_results(used_ids):\n",
    "    useful_results = {}\n",
    "    for id in used_ids:\n",
    "        useful_results[id] = results[id]\n",
    "    return useful_results"
   ]
  },
  {
   "cell_type": "code",
   "execution_count": 4,
   "metadata": {},
   "outputs": [],
   "source": [
    "train_tournaments_id = get_tournaments_id('2019')\n",
    "test_tournaments_id = get_tournaments_id('2020')\n",
    "total_id = train_tournaments_id + test_tournaments_id"
   ]
  },
  {
   "cell_type": "code",
   "execution_count": 5,
   "metadata": {},
   "outputs": [],
   "source": [
    "results = clean_results(total_id)\n",
    "del tournaments"
   ]
  },
  {
   "cell_type": "code",
   "execution_count": 6,
   "metadata": {},
   "outputs": [],
   "source": [
    "def get_active_players_kernel(teams_list: list, players_counter, id_to_name):\n",
    "    for team in teams_list:\n",
    "        if team['mask'] != None:\n",
    "            team_members = team['teamMembers']\n",
    "            member_ids = []\n",
    "\n",
    "            # collect information on team members\n",
    "            for member in team_members:\n",
    "                member_ids.append(str(member['player']['id']))\n",
    "                id_to_name[str(member['player']['id'])] = member['player']['name'] + ' ' + member['player']['surname']\n",
    "\n",
    "            # update present players set\n",
    "            players_counter.update(member_ids)\n",
    "    return players_counter, id_to_name\n",
    "\n",
    "def get_active_players(tournaments_ids):\n",
    "    players_counter = Counter()\n",
    "    id_to_name = {}\n",
    "    for tourn_id, tourn_data in results.items():\n",
    "        players_counter, id_to_name = get_active_players_kernel(tourn_data, players_counter, id_to_name)\n",
    "    return players_counter, id_to_name\n",
    "\n",
    "n = 1000\n",
    "active_players, id_to_name = get_active_players(train_tournaments_id)\n",
    "top_n_active_players = dict(active_players.most_common(n))\n",
    "\n",
    "def player_id_to_index():\n",
    "    id_to_index = {}\n",
    "    index_to_id = {}\n",
    "    i = 0\n",
    "    for player_id in top_n_active_players:\n",
    "        id_to_index[int(player_id)] = i\n",
    "        index_to_id[i] = int(player_id)\n",
    "        i = i + 1\n",
    "    return id_to_index, index_to_id\n",
    "\n",
    "id_to_index, index_to_id = player_id_to_index()"
   ]
  },
  {
   "cell_type": "code",
   "execution_count": 7,
   "metadata": {},
   "outputs": [],
   "source": [
    "def parse_tournament(teams_list: list, cur_quest_cnt: int):\n",
    "    \"\"\"parse tournament information\"\"\"\n",
    "    quest_player_dict = {}\n",
    "    answers_count = Counter()\n",
    "    numb_questions = 0\n",
    "    \n",
    "    # iterate over teams and collect information\n",
    "    for team in teams_list:\n",
    "        if team['mask'] != None:\n",
    "            numb_questions = len(team['mask'])\n",
    "            team_members = team['teamMembers']\n",
    "            member_ids = []\n",
    "\n",
    "            # collect information on team members\n",
    "            for member in team_members:\n",
    "                if str(member['player']['id']) in top_n_active_players:\n",
    "                    member_ids.append(str(member['player']['id']))\n",
    "\n",
    "            # in case of answered question append team members\n",
    "            for i in range(cur_quest_cnt, numb_questions + cur_quest_cnt):\n",
    "                if team['mask'][i - cur_quest_cnt] == '1':\n",
    "                    temp = []\n",
    "                    temp.append(i)\n",
    "                    answers_count.update(temp)\n",
    "                    if i in quest_player_dict:\n",
    "                        quest_player_dict[i] = quest_player_dict[i] + member_ids\n",
    "                    else:\n",
    "                        quest_player_dict[i] = member_ids\n",
    "                        \n",
    "    complexity_dict = dict(answers_count)\n",
    "    for key, value in complexity_dict.items():\n",
    "        complexity_dict[key] = complexity_dict[key] / len(teams_list)\n",
    "    \n",
    "    return quest_player_dict, numb_questions, complexity_dict"
   ]
  },
  {
   "cell_type": "code",
   "execution_count": 8,
   "metadata": {},
   "outputs": [],
   "source": [
    "def make_table(tournaments_ids):\n",
    "    quest_count = 0\n",
    "    quest_players = {}\n",
    "    question_complexity = {}\n",
    "    for tourn_id, tourn_data in results.items():\n",
    "        # parse the given tournament\n",
    "        quest_player_dict, numb_questions, cur_complexity = parse_tournament(tourn_data, quest_count)\n",
    "        # update all dictionaries\n",
    "        question_complexity.update(cur_complexity)\n",
    "        quest_players.update(quest_player_dict)\n",
    "        quest_count = quest_count + numb_questions        \n",
    "    \n",
    "    result = []\n",
    "    max_len = 10000\n",
    "    for quest_id, players_list in quest_players.items():\n",
    "        if len(result) == max_len:\n",
    "            break\n",
    "        else:\n",
    "            for player_id in players_list:\n",
    "                new_row = [0] * (n + 1)\n",
    "                new_row[id_to_index[int(player_id)]] = 1\n",
    "                if quest_id in question_complexity:\n",
    "                    new_row[-1] = question_complexity[quest_id]\n",
    "                else:\n",
    "                    new_row[-1] = 2.0\n",
    "                result.append(new_row)\n",
    "                if len(result) == max_len:\n",
    "                    break\n",
    "    return result"
   ]
  },
  {
   "cell_type": "code",
   "execution_count": 9,
   "metadata": {},
   "outputs": [],
   "source": [
    "train_data = np.array(make_table(train_tournaments_id))\n",
    "test_data = np.array(make_table(test_tournaments_id))"
   ]
  },
  {
   "cell_type": "markdown",
   "metadata": {},
   "source": [
    "### 2. Baseline Model for Players Ratings"
   ]
  },
  {
   "cell_type": "code",
   "execution_count": 10,
   "metadata": {},
   "outputs": [
    {
     "data": {
      "text/plain": [
       "LinearRegression(copy_X=True, fit_intercept=True, n_jobs=None, normalize=False)"
      ]
     },
     "execution_count": 10,
     "metadata": {},
     "output_type": "execute_result"
    }
   ],
   "source": [
    "y = np.ones(n + 1)\n",
    "y[0] = 0.99\n",
    "base_model = LinearRegression()\n",
    "base_model.fit(train_data.T, y)"
   ]
  },
  {
   "cell_type": "code",
   "execution_count": 11,
   "metadata": {},
   "outputs": [],
   "source": [
    "ratings_dict = {}\n",
    "model_ratings = base_model.coef_[0:n]\n",
    "\n",
    "for i in range(n):\n",
    "    ratings_dict[index_to_id[i]] = model_ratings[i]\n",
    "    \n",
    "pred_ratings = list({k: v for k, v in sorted(ratings_dict.items(), key=lambda item: item[1])}.keys())"
   ]
  },
  {
   "cell_type": "markdown",
   "metadata": {},
   "source": [
    "### 3. Model Accuracy Metric"
   ]
  },
  {
   "cell_type": "markdown",
   "metadata": {},
   "source": [
    "Due to nature of the game ChGK, even one strong player in the team can strongly affect the tean's results. To get more accurate prediction we can take top-3 rated players of the team and computer their average. Based on those averages we will predict the tournament results and compare them to actual results. "
   ]
  },
  {
   "cell_type": "code",
   "execution_count": null,
   "metadata": {},
   "outputs": [],
   "source": []
  }
 ],
 "metadata": {
  "kernelspec": {
   "display_name": "Python 3",
   "language": "python",
   "name": "python3"
  },
  "language_info": {
   "codemirror_mode": {
    "name": "ipython",
    "version": 3
   },
   "file_extension": ".py",
   "mimetype": "text/x-python",
   "name": "python",
   "nbconvert_exporter": "python",
   "pygments_lexer": "ipython3",
   "version": "3.7.6"
  }
 },
 "nbformat": 4,
 "nbformat_minor": 4
}
