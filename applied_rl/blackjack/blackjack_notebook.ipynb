{
 "cells": [
  {
   "cell_type": "markdown",
   "metadata": {},
   "source": [
    "# MADE. RL and Advanced DL.\n",
    "## Assignment 1.\n",
    "### RL in Blackjack.\n",
    "#### Otabek Nazarov"
   ]
  },
  {
   "cell_type": "code",
   "execution_count": 1,
   "metadata": {},
   "outputs": [],
   "source": [
    "# Imports\n",
    "\n",
    "import numpy as np\n",
    "import random\n",
    "from collections import defaultdict\n",
    "\n",
    "import Blackjack\n",
    "\n",
    "import matplotlib.pyplot as plt\n",
    "\n",
    "import pdb\n",
    "import sys"
   ]
  },
  {
   "cell_type": "code",
   "execution_count": 2,
   "metadata": {},
   "outputs": [],
   "source": [
    "env = Blackjack.BlackjackEnv()"
   ]
  },
  {
   "cell_type": "markdown",
   "metadata": {},
   "source": [
    "## Part 1. Blackjack and Strategies."
   ]
  },
  {
   "cell_type": "markdown",
   "metadata": {},
   "source": [
    "### Part 1.1. Stand if [19, 20 or 21] else hit."
   ]
  },
  {
   "cell_type": "markdown",
   "metadata": {},
   "source": [
    "Simple strategy of hitting unless we have on hand 19, 20 or 21."
   ]
  },
  {
   "cell_type": "code",
   "execution_count": 18,
   "metadata": {},
   "outputs": [],
   "source": [
    "def simple_stand_hit_episode(env):\n",
    "    # Deal the cards\n",
    "    p_score, _, done = env.reset()\n",
    "    \n",
    "    # Hit until we don't have more than 18\n",
    "    while (not done):\n",
    "        states, reward, done, _ = env.step(1)\n",
    "        p_score, _, _ = states\n",
    "\n",
    "        if p_score > 18: \n",
    "            break\n",
    "\n",
    "    # End the game and get the reward\n",
    "    _, reward, _, _ = env.step(0)\n",
    "    \n",
    "    return reward\n",
    "\n",
    "def run_experiments(env, strategy, n_iter=100000):\n",
    "    rewards = []\n",
    "    \n",
    "    # Run n_iter number of experiments\n",
    "    for _ in range(n_iter):\n",
    "        rewards.append(strategy(env))\n",
    "    \n",
    "    return np.mean(rewards)"
   ]
  },
  {
   "cell_type": "code",
   "execution_count": 19,
   "metadata": {},
   "outputs": [],
   "source": [
    "stand_hit_avg_reward = run_experiments(env, simple_stand_hit_episode, n_iter=100000)"
   ]
  },
  {
   "cell_type": "code",
   "execution_count": 20,
   "metadata": {},
   "outputs": [
    {
     "name": "stdout",
     "output_type": "stream",
     "text": [
      "Average reward of hitting unless getting 19, 20 or 21: -0.223\n"
     ]
    }
   ],
   "source": [
    "print(f'Average reward of hitting unless getting 19, 20 or 21: {stand_hit_avg_reward:.3f}')"
   ]
  },
  {
   "cell_type": "markdown",
   "metadata": {},
   "source": [
    "### Part 1.2. Q-learning."
   ]
  },
  {
   "cell_type": "markdown",
   "metadata": {},
   "source": [
    "Below is the implementation of Q-learning algorithm for the game of blackjack."
   ]
  },
  {
   "cell_type": "code",
   "execution_count": 3,
   "metadata": {},
   "outputs": [],
   "source": [
    "def q_value_action_double(q_function, state, epsilon, max_action=2):\n",
    "    \"\"\" Function to pick the best action \"\"\"\n",
    "\n",
    "    # Randomly initialize state, action values if not present\n",
    "    if state not in q_function:\n",
    "        q_function[state] = np.zeros(max_action)\n",
    "    \n",
    "    # Pick the best action and its value\n",
    "    random_action_prob = random.choices([0, 1], [epsilon, 1 - epsilon])\n",
    "\n",
    "    if (random_action_prob):\n",
    "        action = int(np.argmax(q_function[state]))\n",
    "    else:\n",
    "        action = np.random.randint(0, max_action)\n",
    "    # action = int(np.argmax(q_function[state]))\n",
    "    q_value = q_function[state][action]\n",
    "    \n",
    "    return q_value, action\n",
    "\n",
    "\n",
    "def q_learning(env, lr=0.95, gamma=0, n_iter=1000000, info_freq=40000, mean_update_freq=15000, max_action=2, count=False):\n",
    "    # Initialize variables\n",
    "    q_function = {} # State : [action1_reward, action2_reward]\n",
    "    \n",
    "    mean_rewards = []\n",
    "    cur_mean_reward = 0\n",
    "\n",
    "    eps_min = 0.01\n",
    "    eps_decay =.999965\n",
    "    epsilon = 1.0\n",
    "\n",
    "    # Initialize the game\n",
    "    done = 0\n",
    "    episode_reward = 0\n",
    "    init_state = env.reset(count)\n",
    "\n",
    "    for iter_num in range(n_iter):\n",
    "        \n",
    "        while not done:\n",
    "            epsilon = max(epsilon*eps_decay, eps_min)\n",
    "            # Choose action for a given state\n",
    "            q_value, init_action = q_value_action_double(q_function, init_state, epsilon)\n",
    "\n",
    "            # Perform the step and get state info\n",
    "            new_state, reward, done, _ = env.step(init_action, count)\n",
    "            episode_reward = episode_reward + reward\n",
    "\n",
    "\n",
    "            # Update q function value\n",
    "            next_q_value, _ = q_value_action_double(q_function, new_state, epsilon)\n",
    "            q_function[init_state][init_action] = (1 - lr) * q_value + lr * (reward + gamma * next_q_value)\n",
    "\n",
    "            # Update the state\n",
    "            init_state = new_state\n",
    "\n",
    "        # Reinitialize the game\n",
    "        cur_mean_reward = (iter_num * cur_mean_reward + episode_reward) / (iter_num + 1)\n",
    "        mean_rewards.append(cur_mean_reward)\n",
    "        init_state = env.reset(count)\n",
    "        done = 0\n",
    "        episode_reward = 0\n",
    "\n",
    "        # Print the current average reward value\n",
    "        if (iter_num % info_freq) == 0:\n",
    "            print(f'Average reward at iteration {iter_num}: {cur_mean_reward}')\n",
    "\n",
    "    return mean_rewards"
   ]
  },
  {
   "cell_type": "markdown",
   "metadata": {},
   "source": [
    "To pick hyperparameters I ran grid seach with the parameters: gammas = [0.01, 0.05, 0.1, 0.2, 0.4, 0.8] and learning_rates = [0.01, 0.02, 0.05, 0.1, 0.2, 0.4, 0.6, 0.8]. I got the best result when using gamma of 0.1 and learning_rate of 0.02."
   ]
  },
  {
   "cell_type": "code",
   "execution_count": 8,
   "metadata": {},
   "outputs": [
    {
     "name": "stdout",
     "output_type": "stream",
     "text": [
      "Average reward at iteration 0: -1.0\n",
      "Average reward at iteration 50000: -0.06487870242595094\n",
      "Average reward at iteration 100000: -0.061979380206197726\n",
      "Average reward at iteration 150000: -0.06169958866940875\n",
      "Average reward at iteration 200000: -0.058504707476462525\n",
      "Average reward at iteration 250000: -0.05721577113691538\n",
      "Average reward at iteration 300000: -0.0565564781450728\n",
      "Average reward at iteration 350000: -0.05635698183719471\n",
      "Average reward at iteration 400000: -0.05727485681285793\n",
      "Average reward at iteration 450000: -0.05667987404472431\n",
      "Average reward at iteration 500000: -0.05693588612822771\n",
      "Average reward at iteration 550000: -0.056425351953905516\n",
      "Average reward at iteration 600000: -0.05648657252237959\n",
      "Average reward at iteration 650000: -0.05630914413977867\n",
      "Average reward at iteration 700000: -0.05616563404909461\n",
      "Average reward at iteration 750000: -0.05581059225254403\n",
      "Average reward at iteration 800000: -0.055576180529774685\n",
      "Average reward at iteration 850000: -0.055254052642291336\n",
      "Average reward at iteration 900000: -0.055223271974142556\n",
      "Average reward at iteration 950000: -0.05531257335518623\n",
      "Average reward at iteration 1000000: -0.05530594469405558\n",
      "Average reward at iteration 1050000: -0.05518375696785078\n",
      "Average reward at iteration 1100000: -0.055426313248806355\n",
      "Average reward at iteration 1150000: -0.05562429945713094\n",
      "Average reward at iteration 1200000: -0.055687453593788405\n",
      "Average reward at iteration 1250000: -0.055659155472675366\n",
      "Average reward at iteration 1300000: -0.05577688017163039\n",
      "Average reward at iteration 1350000: -0.05602810664584669\n",
      "Average reward at iteration 1400000: -0.05593567433166096\n",
      "Average reward at iteration 1450000: -0.055870995951037054\n",
      "Average reward at iteration 1500000: -0.05563396291069118\n",
      "Average reward at iteration 1550000: -0.055677383433945966\n",
      "Average reward at iteration 1600000: -0.05582809010744348\n",
      "Average reward at iteration 1650000: -0.05572784501342707\n",
      "Average reward at iteration 1700000: -0.0557217319283928\n",
      "Average reward at iteration 1750000: -0.055749682428752716\n",
      "Average reward at iteration 1800000: -0.055801080110510874\n",
      "Average reward at iteration 1850000: -0.056107537239168885\n",
      "Average reward at iteration 1900000: -0.056079970484225895\n",
      "Average reward at iteration 1950000: -0.05622356091099424\n"
     ]
    }
   ],
   "source": [
    "# Run Q-learning algorithm and get the average rewards list\n",
    "q_learning_simple_rewards = q_learning(env, n_iter=2000000, lr=0.02, gamma=0.01, max_action=2, info_freq=50000)"
   ]
  },
  {
   "cell_type": "markdown",
   "metadata": {},
   "source": [
    "Observations:<br>\n",
    "- for the training I chose small learning rate and set high number of iterations. Small learning rate ensures that learning goes in more stable manner without much turbulence. \n",
    "- for gamma I chose small value because the episodes blackjack are short and very often the next best state will give a negative reward and in some rare cases it will give positive feedback. Hence, having small gamma makes sure that future values don't strongly affect the current q values. <br>\n",
    "- I added decaying epsilon greedy exploration. In the beginning it will be choosing random actions more often and over time it will converge towards deterministic decision with very small level of exploration"
   ]
  },
  {
   "cell_type": "code",
   "execution_count": 16,
   "metadata": {},
   "outputs": [
    {
     "data": {
      "image/png": "[encoded data removed]",
      "text/plain": [
       "<Figure size 1008x576 with 1 Axes>"
      ]
     },
     "metadata": {
      "needs_background": "light"
     },
     "output_type": "display_data"
    }
   ],
   "source": [
    "iterations=np.arange(0, len(q_learning_simple_rewards))\n",
    "\n",
    "fig, ax = plt.subplots(1, 1, figsize=(14, 8))\n",
    "ax.grid(None)\n",
    "ax.plot(iterations, q_learning_simple_rewards, color=\"g\")\n",
    "ax.set_xlim((iterations[0], iterations[-1]))\n",
    "ax.set_ylim((-0.2, -0.02))\n",
    "ax.set_xlabel('Iteration Number', fontsize=13)\n",
    "ax.set_ylabel('Average Reward', fontsize=13)\n",
    "_ = ax.set_title('Q-learning Rewards on Simple Blackjack', fontsize=17)"
   ]
  },
  {
   "cell_type": "markdown",
   "metadata": {},
   "source": [
    "## Part 2. Double."
   ]
  },
  {
   "cell_type": "markdown",
   "metadata": {},
   "source": [
    "In this section now the player has an option to take one extra card and double his rewards or losses based on the results. The results of training the model are below. In the Blackjack.py file I added the third action of taking one more card and doubling the action. <br>\n",
    "\n",
    "To pick hyperparameters I ran grid seach with the parameters: gammas = [0.01, 0.05, 0.1, 0.2, 0.4, 0.8] and learning_rates = [0.01, 0.02, 0.05, 0.1, 0.2, 0.4, 0.6, 0.8]. I got the best result when using gamma of 0.1 and learning_rate of 0.02."
   ]
  },
  {
   "cell_type": "code",
   "execution_count": 14,
   "metadata": {},
   "outputs": [
    {
     "name": "stdout",
     "output_type": "stream",
     "text": [
      "Average reward at iteration 0: -1.0\n",
      "Average reward at iteration 50000: -0.06781864362712729\n",
      "Average reward at iteration 100000: -0.06356936430635635\n",
      "Average reward at iteration 150000: -0.06203958640275636\n",
      "Average reward at iteration 200000: -0.06017969910150345\n",
      "Average reward at iteration 250000: -0.0594397622409502\n",
      "Average reward at iteration 300000: -0.058316472278424986\n",
      "Average reward at iteration 350000: -0.058071262653534635\n",
      "Average reward at iteration 400000: -0.05779985550036069\n",
      "Average reward at iteration 450000: -0.05723098393114632\n",
      "Average reward at iteration 500000: -0.056737886524226504\n",
      "Average reward at iteration 550000: -0.056358079348946\n",
      "Average reward at iteration 600000: -0.05641657263904514\n",
      "Average reward at iteration 650000: -0.0561614520593041\n",
      "Average reward at iteration 700000: -0.055695634720521435\n",
      "Average reward at iteration 750000: -0.055477259363653816\n",
      "Average reward at iteration 800000: -0.05510118112352325\n",
      "Average reward at iteration 850000: -0.05488581778139052\n",
      "Average reward at iteration 900000: -0.05503216107537628\n",
      "Average reward at iteration 950000: -0.05494836321224896\n",
      "Average reward at iteration 1000000: -0.05478594521405451\n",
      "Average reward at iteration 1050000: -0.05470851932521941\n",
      "Average reward at iteration 1100000: -0.054492677733929004\n",
      "Average reward at iteration 1150000: -0.05428256149342469\n",
      "Average reward at iteration 1200000: -0.05412745489378725\n",
      "Average reward at iteration 1250000: -0.054354356516514435\n",
      "Average reward at iteration 1300000: -0.05420611214914416\n",
      "Average reward at iteration 1350000: -0.0541636635824711\n",
      "Average reward at iteration 1400000: -0.05429853264390494\n",
      "Average reward at iteration 1450000: -0.05416754884996601\n",
      "Average reward at iteration 1500000: -0.05408529727646819\n",
      "Average reward at iteration 1550000: -0.053871578147368655\n",
      "Average reward at iteration 1600000: -0.05399371625392707\n",
      "Average reward at iteration 1650000: -0.05404481573041445\n",
      "Average reward at iteration 1700000: -0.05406467407960323\n",
      "Average reward at iteration 1750000: -0.054137111921650084\n",
      "Average reward at iteration 1800000: -0.05412774770680659\n",
      "Average reward at iteration 1850000: -0.05407780860658971\n",
      "Average reward at iteration 1900000: -0.0543510240257766\n",
      "Average reward at iteration 1950000: -0.0544374079808162\n"
     ]
    }
   ],
   "source": [
    "# Run Q-learning algorithm and get the average rewards list\n",
    "q_learning_double_rewards = q_learning(env, n_iter=2000000, lr=0.02, gamma=0.1, max_action=3, info_freq=50000)"
   ]
  },
  {
   "cell_type": "code",
   "execution_count": 15,
   "metadata": {},
   "outputs": [
    {
     "data": {
      "image/png": "[encoded data removed]",
      "text/plain": [
       "<Figure size 1008x576 with 1 Axes>"
      ]
     },
     "metadata": {
      "needs_background": "light"
     },
     "output_type": "display_data"
    }
   ],
   "source": [
    "iterations=np.arange(0, len(q_learning_double_rewards))\n",
    "\n",
    "fig, ax = plt.subplots(1, 1, figsize=(14, 8))\n",
    "ax.grid(None)\n",
    "ax.plot(iterations, q_learning_double_rewards, color=\"g\")\n",
    "ax.set_xlim((iterations[0], iterations[-1]))\n",
    "ax.set_ylim((-0.2, -0.02))\n",
    "ax.set_xlabel('Iteration Number', fontsize=13)\n",
    "ax.set_ylabel('Average Reward', fontsize=13)\n",
    "_ = ax.set_title('Q-learning Rewards with Doubling', fontsize=17)"
   ]
  },
  {
   "cell_type": "markdown",
   "metadata": {},
   "source": [
    "Observations: <br>\n",
    "- increasing gamma helped because in case of doubling future rewards can be higher and accounting for that is important\n",
    "- doubling helped a bit, but no significant changes are observed"
   ]
  },
  {
   "cell_type": "markdown",
   "metadata": {},
   "source": [
    "## Part 3. Counting."
   ]
  },
  {
   "cell_type": "markdown",
   "metadata": {},
   "source": [
    "To add the counting I used the blackjack card counting system from wikipedia article about blackjack. Each card has its own score (see below). The total score of the deck must be tracked and depending on the total score, player can make a more optimal decision regarding his actions. When the score is positive, the chance of player winning rises, and when it is negative it falls. <br>\n",
    "\n",
    "To implement this, I modified the state of Blackjack class to account for current score. I added function **def _get_obs_with_count(self)** that returns the score inside the state.  I increased number of decks to three and I restart the score and reshuffle the cards once number of cards reaches 15. "
   ]
  },
  {
   "cell_type": "markdown",
   "metadata": {},
   "source": [
    "![alt text](card_counts.png \"Title\")"
   ]
  },
  {
   "cell_type": "markdown",
   "metadata": {},
   "source": [
    "Consequently number of states increases. Hence, we will need to train for longer number of iteration for the model to converge to an optimal solution. <br>\n",
    "\n",
    "To pick hyperparameters I rad grid seach with the parameters: gammas = [0.01, 0.05, 0.1, 0.2, 0.4, 0.8] and learning_rates = [0.01, 0.02, 0.05, 0.1, 0.2, 0.4, 0.6, 0.8]. I got the best result when using gamma of 0.01 and learning_rate of 0.05"
   ]
  },
  {
   "cell_type": "code",
   "execution_count": 10,
   "metadata": {},
   "outputs": [
    {
     "name": "stdout",
     "output_type": "stream",
     "text": [
      "Average reward at iteration 0: -1.0\n",
      "Average reward at iteration 400000: -0.07806730483173854\n",
      "Average reward at iteration 800000: -0.06753366558291747\n",
      "Average reward at iteration 1200000: -0.06289244758962693\n",
      "Average reward at iteration 1600000: -0.05976308764807041\n",
      "Average reward at iteration 2000000: -0.05785847107076462\n",
      "Average reward at iteration 2400000: -0.05653080977882962\n",
      "Average reward at iteration 2800000: -0.055359265943119615\n",
      "Average reward at iteration 3200000: -0.05448373297383372\n",
      "Average reward at iteration 3600000: -0.05378304061582229\n",
      "Average reward at iteration 4000000: -0.053052736736816035\n",
      "Average reward at iteration 4400000: -0.052624306221748775\n",
      "Average reward at iteration 4800000: -0.05219728079223227\n",
      "Average reward at iteration 5200000: -0.05191325924744989\n",
      "Average reward at iteration 5600000: -0.0515276693700588\n",
      "Average reward at iteration 6000000: -0.05118532480244564\n",
      "Average reward at iteration 6400000: -0.05082280455893658\n",
      "Average reward at iteration 6800000: -0.0507829337083919\n",
      "Average reward at iteration 7200000: -0.050503604096721465\n",
      "Average reward at iteration 7600000: -0.05019025655391344\n",
      "Average reward at iteration 8000000: -0.05003661874542249\n",
      "Average reward at iteration 8400000: -0.04993951786434299\n",
      "Average reward at iteration 8800000: -0.0496963579890501\n",
      "Average reward at iteration 9200000: -0.04947988592610046\n",
      "Average reward at iteration 9600000: -0.04928041153329245\n",
      "Average reward at iteration 10000000: -0.04904979509502139\n",
      "Average reward at iteration 10400000: -0.04881595684461975\n",
      "Average reward at iteration 10800000: -0.04875582881890401\n",
      "Average reward at iteration 11200000: -0.048693031366692924\n",
      "Average reward at iteration 11600000: -0.048535857884839155\n",
      "Average reward at iteration 12000000: -0.048362079303159396\n",
      "Average reward at iteration 12400000: -0.04833854448882642\n",
      "Average reward at iteration 12800000: -0.048323668099712815\n",
      "Average reward at iteration 13200000: -0.048224769073880534\n",
      "Average reward at iteration 13600000: -0.04810617293336906\n",
      "Average reward at iteration 14000000: -0.048075210851770085\n",
      "Average reward at iteration 14400000: -0.047998191111236176\n",
      "Average reward at iteration 14800000: -0.04799702378398434\n",
      "Average reward at iteration 15200000: -0.047964338949714025\n",
      "Average reward at iteration 15600000: -0.04790256103188661\n",
      "Average reward at iteration 16000000: -0.04784843450947235\n",
      "Average reward at iteration 16400000: -0.04781578976732941\n",
      "Average reward at iteration 16800000: -0.04775148525288734\n",
      "Average reward at iteration 17200000: -0.0477408111778593\n",
      "Average reward at iteration 17600000: -0.047709485925596484\n",
      "Average reward at iteration 18000000: -0.04766244179652989\n",
      "Average reward at iteration 18400000: -0.04764684523658656\n",
      "Average reward at iteration 18800000: -0.04753388045032778\n",
      "Average reward at iteration 19200000: -0.0475056225257508\n",
      "Average reward at iteration 19600000: -0.047402395540695925\n"
     ]
    }
   ],
   "source": [
    "# Run Q-learning algorithm and get the average rewards list\n",
    "q_learning_counting_rewards = q_learning(env, n_iter=20000000, lr=0.02, gamma=0.1, max_action=3, count=True, info_freq=400000)"
   ]
  },
  {
   "cell_type": "code",
   "execution_count": 11,
   "metadata": {},
   "outputs": [
    {
     "data": {
      "image/png": "[encoded data removed]",
      "text/plain": [
       "<Figure size 1008x576 with 1 Axes>"
      ]
     },
     "metadata": {
      "needs_background": "light"
     },
     "output_type": "display_data"
    }
   ],
   "source": [
    "iterations=np.arange(0, len(q_learning_counting_rewards))\n",
    "\n",
    "fig, ax = plt.subplots(1, 1, figsize=(14, 8))\n",
    "ax.grid(None)\n",
    "ax.plot(iterations, q_learning_counting_rewards, color=\"g\")\n",
    "ax.set_xlim((iterations[0], iterations[-1]))\n",
    "ax.set_ylim((-0.2, -0.02))\n",
    "ax.set_xlabel('Iteration Number', fontsize=13)\n",
    "ax.set_ylabel('Average Reward', fontsize=13)\n",
    "_ = ax.set_title('Q-learning Rewards with Counting Cards', fontsize=17)"
   ]
  },
  {
   "cell_type": "markdown",
   "metadata": {},
   "source": [
    "Observations: <br>\n",
    "- counting improves the rewards results\n",
    "- it requires longer training iterations because now with counting we have many more states and it takes time to learn them\n",
    "- it has different training dynamic compared to previous results, previously we would reach consistent average reward pretty quickly but with counting convergence takes much more time; model could continue training, it didn't converge yet\n",
    "- correct hyperparameters are needed to see the improvement in the score"
   ]
  }
 ],
 "metadata": {
  "interpreter": {
   "hash": "2db524e06e9f5f4ffedc911c917cb75e12dbc923643829bf417064a77eb14d37"
  },
  "kernelspec": {
   "display_name": "Python 3.8.2 64-bit",
   "name": "python3"
  },
  "language_info": {
   "codemirror_mode": {
    "name": "ipython",
    "version": 3
   },
   "file_extension": ".py",
   "mimetype": "text/x-python",
   "name": "python",
   "nbconvert_exporter": "python",
   "pygments_lexer": "ipython3",
   "version": "3.8.2"
  },
  "orig_nbformat": 4
 },
 "nbformat": 4,
 "nbformat_minor": 2
}
