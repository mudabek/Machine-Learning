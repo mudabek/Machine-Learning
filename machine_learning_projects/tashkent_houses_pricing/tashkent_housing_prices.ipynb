{
 "cells": [
  {
   "cell_type": "markdown",
   "metadata": {
    "id": "0O9fQM31q7Ez"
   },
   "source": [
    "# Description"
   ]
  },
  {
   "cell_type": "markdown",
   "metadata": {
    "id": "VOzww7J9oi0C"
   },
   "source": [
    "It is a model for creating a demonstration of a model using jupyter-dash. Random data was generated using sklearn library. The model itself predicts the housing prices in Tashkent based on various features. Random forest regressor was used as a model.  \n",
    "\n",
    "\n",
    "\n",
    "\n",
    "\n"
   ]
  },
  {
   "cell_type": "markdown",
   "metadata": {
    "id": "adEskCknqx2u"
   },
   "source": [
    "# Data Preparation"
   ]
  },
  {
   "cell_type": "code",
   "execution_count": null,
   "metadata": {
    "id": "dTUfNSxudnz4"
   },
   "outputs": [],
   "source": [
    "### imports ###\n",
    "\n",
    "import tensorflow as tf\n",
    "import pandas as pd\n",
    "import numpy as np\n",
    "from sklearn import preprocessing\n",
    "from sklearn.ensemble import RandomForestRegressor\n",
    "from sklearn.datasets import make_regression\n",
    "from sklearn.model_selection import train_test_split"
   ]
  },
  {
   "cell_type": "code",
   "execution_count": null,
   "metadata": {
    "id": "m9eZW0cXPJKZ"
   },
   "outputs": [],
   "source": [
    "### generate pseudo-data for model ###\n",
    "\n",
    "X, y = make_regression(n_samples=10000, n_features=10, noise=0.1)\n",
    "x_train, x_test, y_train, y_test = train_test_split(X, y, test_size=0.2, random_state=42)"
   ]
  },
  {
   "cell_type": "code",
   "execution_count": null,
   "metadata": {
    "id": "8z9Z64ULdtzL"
   },
   "outputs": [],
   "source": [
    "### process data for training purposes ###\n",
    "\n",
    "MIN_PRICE = 10000\n",
    "PRICE_SCALE = 100000\n",
    "\n",
    "# normalize input data\n",
    "min_max_scaler = preprocessing.MinMaxScaler()\n",
    "min_max_scaler.fit(x_train)\n",
    "x_train = min_max_scaler.transform(x_train)\n",
    "x_test = min_max_scaler.transform(x_test)\n",
    "min_max_scaler.fit(y_train.reshape(-1, 1))\n",
    "y_train = min_max_scaler.transform(y_train.reshape(-1, 1))\n",
    "y_test = min_max_scaler.transform(y_test.reshape(-1, 1))\n",
    "\n",
    "y_train = (PRICE_SCALE * y_train) + MIN_PRICE\n",
    "y_test = (PRICE_SCALE * y_test) + MIN_PRICE\n",
    "\n",
    "# translating to pandas for usage ease\n",
    "df_x_train = pd.DataFrame(x_train)\n",
    "df_y_train = pd.DataFrame(y_train)\n",
    "df_x_test = pd.DataFrame(x_test)\n",
    "df_y_test = pd.DataFrame(y_test)\n",
    "\n",
    "# naming the columns\n",
    "df_x_train.columns = ['rooms', 'center', 'parks', 'malls', 'security', 'transport', 'schools', 'parking', 'highway', 'restaraunts']\n",
    "df_x_test.columns = ['rooms', 'center', 'parks', 'malls', 'security', 'transport', 'schools', 'parking', 'highway', 'restaraunts']\n",
    "df_y_train.columns = ['price']\n",
    "df_y_test.columns = ['price']"
   ]
  },
  {
   "cell_type": "markdown",
   "metadata": {
    "id": "LATTRwGIq2OS"
   },
   "source": [
    "# Model"
   ]
  },
  {
   "cell_type": "code",
   "execution_count": null,
   "metadata": {
    "id": "N3fskaJvsOo4"
   },
   "outputs": [],
   "source": [
    "def mean_absolute_percentage_error(y_true, y_pred): \n",
    "    return np.mean(np.abs((y_true - y_pred) / y_true)) * 100"
   ]
  },
  {
   "cell_type": "code",
   "execution_count": null,
   "metadata": {
    "id": "n2UoSrMWedLq"
   },
   "outputs": [],
   "source": [
    "model = RandomForestRegressor(n_estimators=500, min_samples_split=2, random_state=42).fit(df_x_train, df_y_train)\n",
    "y_pred = model.predict(df_x_test)\n",
    "mean_absolute_percentage_error(y_test, y_pred)"
   ]
  },
  {
   "cell_type": "markdown",
   "metadata": {
    "id": "IcksIq1PwZPj"
   },
   "source": [
    "# Model Demo"
   ]
  },
  {
   "cell_type": "code",
   "execution_count": null,
   "metadata": {
    "id": "PJaaD6gcVieX"
   },
   "outputs": [],
   "source": [
    "# install jupyter_dash library if needed\n",
    "!pip install jupyter_dash"
   ]
  },
  {
   "cell_type": "code",
   "execution_count": null,
   "metadata": {
    "id": "K2JFdz4mVVpI"
   },
   "outputs": [],
   "source": [
    "### imports ###\n",
    "\n",
    "from jupyter_dash import JupyterDash\n",
    "import dash\n",
    "import dash_core_components as dcc\n",
    "import dash_html_components as html\n",
    "from dash.dependencies import Input, Output"
   ]
  },
  {
   "cell_type": "code",
   "execution_count": null,
   "metadata": {
    "id": "6sMPD1CNVt_F"
   },
   "outputs": [],
   "source": [
    "JupyterDash.infer_jupyter_proxy_config()"
   ]
  },
  {
   "cell_type": "code",
   "execution_count": null,
   "metadata": {
    "id": "AymowYThVx6Y"
   },
   "outputs": [],
   "source": [
    "### Demo of a service model ###\n",
    "\n",
    "external_stylesheets = ['https://codepen.io/chriddyp/pen/bWLwgP.css']\n",
    "\n",
    "app = JupyterDash(__name__, external_stylesheets=external_stylesheets)\n",
    "\n",
    "\n",
    "def create_slider(slider_id):\n",
    "  levels = [1, 2, 3, 4, 5, 6, 7, 8, 9, 10]\n",
    "  return dcc.Slider(\n",
    "          id=slider_id,\n",
    "          min = 1,\n",
    "          max = 10,\n",
    "          marks = {str(level): str(level) for level in levels},\n",
    "          value = 4)\n",
    "  \n",
    "\n",
    "app.layout = html.Div([\n",
    "  html.H3('Demo of a housing price estimator in Tashkent, Uzbekistan', style={'text-align': 'center'}),\n",
    "  html.Br(),\n",
    "\n",
    "  html.Label('Number of rooms', style={'text-align': 'center'}),\n",
    "  create_slider('rooms'),\n",
    "  html.Br(),\n",
    "\n",
    "  html.Label('Distance from center', style={'text-align': 'center'}),\n",
    "  create_slider('center'),\n",
    "  html.Br(),\n",
    "\n",
    "  html.Label('Closeness to malls', style={'text-align': 'center'}),\n",
    "  create_slider('malls'),\n",
    "  html.Br(),            \n",
    "\n",
    "  html.Label('Parking space', style={'text-align': 'center'}),\n",
    "  create_slider('parking'),\n",
    "  html.Br(), \n",
    "  \n",
    "  html.Label('Safety', style={'text-align': 'center'}),\n",
    "  create_slider('safety'),\n",
    "  html.Br(),\n",
    "\n",
    "  html.Label('Transportation availability', style={'text-align': 'center'}),\n",
    "  create_slider('transport'),\n",
    "  html.Br(),            \n",
    "\n",
    "  html.Label('Schools availability', style={'text-align': 'center'}),\n",
    "  create_slider('schools'), \n",
    "  html.Br(),\n",
    "\n",
    "  html.Label('Restaurants availability', style={'text-align': 'center'}),\n",
    "  create_slider('restaurants'),\n",
    "  html.Br(),\n",
    "\n",
    "  html.Label('Closeness to highways', style={'text-align': 'center'}),\n",
    "  create_slider('highway'),\n",
    "  html.Br(),\n",
    "    \n",
    "  html.Br(),\n",
    "  html.H4(id='price', style={'text-align': 'center'}),\n",
    "])\n",
    "\n",
    "@app.callback(\n",
    "  Output('price', 'children'),\n",
    "  Input('rooms', 'value'),\n",
    "  Input('center', 'value'),\n",
    "  Input('malls', 'value'),\n",
    "  Input('parking', 'value'),\n",
    "  Input('safety', 'value'),\n",
    "  Input('transport', 'value'),\n",
    "  Input('schools', 'value'),\n",
    "  Input('restaurants', 'value'),\n",
    "  Input('highway', 'value'),\n",
    ")\n",
    "def update_output_div(rooms, center, malls, parking, safety, \n",
    "                      transport, schools, restaurants, highway):\n",
    "    rooms = float(rooms) / 10\n",
    "    center = float(center) / 10\n",
    "    parks = 0.5\n",
    "    malls = float(malls) / 10\n",
    "    parking = float(parking) / 10\n",
    "    safety = float(safety) / 10\n",
    "    transport = float(transport) / 10\n",
    "    schools = float(schools) / 10\n",
    "    highway = float(highway) / 10\n",
    "    restaurants = float(restaurants) / 10\n",
    "    x_input = pd.DataFrame([[rooms, center, parks, malls, parking, safety, transport, schools, highway, restaurants]], columns = list(df_x_train.columns))\n",
    "    y_output = model.predict(x_input)\n",
    "    return 'Estimated Price: {}'.format(round(y_output[0]))"
   ]
  },
  {
   "cell_type": "code",
   "execution_count": null,
   "metadata": {
    "id": "SZgqNDXBV27V"
   },
   "outputs": [],
   "source": [
    "# run the demo\n",
    "app.run_server()"
   ]
  }
 ],
 "metadata": {
  "colab": {
   "collapsed_sections": [],
   "name": "tashkent_housing_prices.ipynb",
   "provenance": []
  },
  "kernelspec": {
   "display_name": "Python 3",
   "language": "python",
   "name": "python3"
  },
  "language_info": {
   "codemirror_mode": {
    "name": "ipython",
    "version": 3
   },
   "file_extension": ".py",
   "mimetype": "text/x-python",
   "name": "python",
   "nbconvert_exporter": "python",
   "pygments_lexer": "ipython3",
   "version": "3.7.6"
  }
 },
 "nbformat": 4,
 "nbformat_minor": 1
}
