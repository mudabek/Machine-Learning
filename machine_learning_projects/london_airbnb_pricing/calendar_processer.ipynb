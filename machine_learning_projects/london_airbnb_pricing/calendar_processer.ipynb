{
 "cells": [
  {
   "cell_type": "markdown",
   "metadata": {},
   "source": [
    "###### Kernel notebook for processing airbnb housing calendar data"
   ]
  },
  {
   "cell_type": "code",
   "execution_count": 13,
   "metadata": {
    "executionInfo": {
     "elapsed": 897,
     "status": "ok",
     "timestamp": 1607159689904,
     "user": {
      "displayName": "Otabek Nazarov",
      "photoUrl": "",
      "userId": "17472958537670277881"
     },
     "user_tz": -240
    },
    "id": "tienTXBN3YYS"
   },
   "outputs": [],
   "source": [
    "import pandas as pd\n",
    "import numpy as np\n",
    "import datetime"
   ]
  },
  {
   "cell_type": "code",
   "execution_count": 2,
   "metadata": {
    "colab": {
     "base_uri": "https://localhost:8080/"
    },
    "executionInfo": {
     "elapsed": 20069,
     "status": "ok",
     "timestamp": 1607159488486,
     "user": {
      "displayName": "Otabek Nazarov",
      "photoUrl": "",
      "userId": "17472958537670277881"
     },
     "user_tz": -240
    },
    "id": "sbIMMunkxho4",
    "outputId": "7ec06adf-ecf3-4128-abd4-e19f7a1db680"
   },
   "outputs": [
    {
     "name": "stdout",
     "output_type": "stream",
     "text": [
      "Mounted at /content/drive\n"
     ]
    }
   ],
   "source": [
    "from google.colab import drive\n",
    "drive.mount('/content/drive')"
   ]
  },
  {
   "cell_type": "code",
   "execution_count": 18,
   "metadata": {
    "executionInfo": {
     "elapsed": 14903,
     "status": "ok",
     "timestamp": 1607160139149,
     "user": {
      "displayName": "Otabek Nazarov",
      "photoUrl": "",
      "userId": "17472958537670277881"
     },
     "user_tz": -240
    },
    "id": "JQcCodeet1uF"
   },
   "outputs": [],
   "source": [
    "path = '/content/drive/MyDrive/ML/Houses/'\n",
    "calendar = pd.read_csv(path + 'calendar.csv', parse_dates=['date'])"
   ]
  },
  {
   "cell_type": "code",
   "execution_count": 20,
   "metadata": {
    "executionInfo": {
     "elapsed": 134268,
     "status": "ok",
     "timestamp": 1607160281737,
     "user": {
      "displayName": "Otabek Nazarov",
      "photoUrl": "",
      "userId": "17472958537670277881"
     },
     "user_tz": -240
    },
    "id": "Cht-b7L8K6aK"
   },
   "outputs": [],
   "source": [
    "last_date = calendar['date'].max().date()\n",
    "calendar['date'] = calendar.date.apply(lambda x:(last_date - x.date()).days)"
   ]
  },
  {
   "cell_type": "code",
   "execution_count": null,
   "metadata": {
    "id": "6x3K7Sw1QStb"
   },
   "outputs": [],
   "source": [
    "market_presence = []\n",
    "popularity = []\n",
    "ids = []\n",
    "for id in calendar['listing_id'].unique():\n",
    "  ids.append(id)\n",
    "  busy = calendar.loc[calendar['listing_id'] == id].loc[calendar['available'] == 'f'].shape[0]\n",
    "  free_count = calendar.loc[calendar['listing_id'] == id].loc[calendar['available'] == 't'].shape[0]\n",
    "  free = busy if free_count == 0 else free_count\n",
    "  popularity.append(busy/free)\n",
    "  last_date = calendar.loc[calendar['listing_id'] == id]['date'].min()\n",
    "  first_date = calendar.loc[calendar['listing_id'] == id]['date'].max()\n",
    "  market_presence.append(first_date - last_date)"
   ]
  },
  {
   "cell_type": "code",
   "execution_count": 38,
   "metadata": {
    "colab": {
     "base_uri": "https://localhost:8080/"
    },
    "executionInfo": {
     "elapsed": 882,
     "status": "ok",
     "timestamp": 1607161501432,
     "user": {
      "displayName": "Otabek Nazarov",
      "photoUrl": "",
      "userId": "17472958537670277881"
     },
     "user_tz": -240
    },
    "id": "pAngZFDqSXak",
    "outputId": "92cdd2f2-b8cf-4e95-ec9e-9b04e97c6e7a"
   },
   "outputs": [
    {
     "data": {
      "text/plain": [
       "81922425"
      ]
     },
     "execution_count": 38,
     "metadata": {
      "tags": []
     },
     "output_type": "execute_result"
    }
   ],
   "source": [
    "info_calendar = pd.DataFrame(\n",
    "    {'listing_id': id,\n",
    "     'popularity': popularity,\n",
    "     'presence_time': market_presence\n",
    "    })"
   ]
  }
 ],
 "metadata": {
  "colab": {
   "authorship_tag": "ABX9TyNn2Cv3MoUiFtaE9XqbxEmq",
   "collapsed_sections": [],
   "name": "Calendator",
   "provenance": []
  },
  "kernelspec": {
   "display_name": "Python 3",
   "language": "python",
   "name": "python3"
  },
  "language_info": {
   "codemirror_mode": {
    "name": "ipython",
    "version": 3
   },
   "file_extension": ".py",
   "mimetype": "text/x-python",
   "name": "python",
   "nbconvert_exporter": "python",
   "pygments_lexer": "ipython3",
   "version": "3.7.6"
  }
 },
 "nbformat": 4,
 "nbformat_minor": 1
}
