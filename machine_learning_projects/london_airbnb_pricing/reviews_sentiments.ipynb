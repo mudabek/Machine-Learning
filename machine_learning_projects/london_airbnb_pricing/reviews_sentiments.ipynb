{
 "cells": [
  {
   "cell_type": "markdown",
   "metadata": {},
   "source": [
    "###### Kernel notebook for getting airbnb housing reviews sentiment"
   ]
  },
  {
   "cell_type": "code",
   "execution_count": 12,
   "metadata": {
    "colab": {
     "base_uri": "https://localhost:8080/"
    },
    "executionInfo": {
     "elapsed": 812,
     "status": "ok",
     "timestamp": 1607087486355,
     "user": {
      "displayName": "Otabek Nazarov",
      "photoUrl": "",
      "userId": "17472958537670277881"
     },
     "user_tz": -240
    },
    "id": "tienTXBN3YYS",
    "outputId": "cf3c6c2c-6871-4006-c944-ce6970e9ceee"
   },
   "outputs": [
    {
     "name": "stdout",
     "output_type": "stream",
     "text": [
      "[nltk_data] Downloading package vader_lexicon to /root/nltk_data...\n",
      "[nltk_data]   Package vader_lexicon is already up-to-date!\n"
     ]
    },
    {
     "data": {
      "text/plain": [
       "True"
      ]
     },
     "execution_count": 12,
     "metadata": {
      "tags": []
     },
     "output_type": "execute_result"
    }
   ],
   "source": [
    "from nltk.sentiment import SentimentIntensityAnalyzer\n",
    "import pandas as pd\n",
    "import numpy as np\n",
    "from sklearn.pipeline import Pipeline\n",
    "from sklearn.base import TransformerMixin\n",
    "import nltk\n",
    "nltk.download('vader_lexicon')"
   ]
  },
  {
   "cell_type": "code",
   "execution_count": 5,
   "metadata": {
    "colab": {
     "base_uri": "https://localhost:8080/"
    },
    "executionInfo": {
     "elapsed": 18805,
     "status": "ok",
     "timestamp": 1607087411063,
     "user": {
      "displayName": "Otabek Nazarov",
      "photoUrl": "",
      "userId": "17472958537670277881"
     },
     "user_tz": -240
    },
    "id": "sbIMMunkxho4",
    "outputId": "c2566a99-4ce0-437f-f7ac-71c29185b693"
   },
   "outputs": [
    {
     "name": "stdout",
     "output_type": "stream",
     "text": [
      "Mounted at /content/drive\n"
     ]
    }
   ],
   "source": [
    "from google.colab import drive\n",
    "drive.mount('/content/drive')"
   ]
  },
  {
   "cell_type": "code",
   "execution_count": 6,
   "metadata": {
    "executionInfo": {
     "elapsed": 7733,
     "status": "ok",
     "timestamp": 1607087421861,
     "user": {
      "displayName": "Otabek Nazarov",
      "photoUrl": "",
      "userId": "17472958537670277881"
     },
     "user_tz": -240
    },
    "id": "JQcCodeet1uF"
   },
   "outputs": [],
   "source": [
    "path = '/content/drive/MyDrive/ML/Houses/'\n",
    "data_reviews_csv = pd.read_csv(path + 'reviews.csv')"
   ]
  },
  {
   "cell_type": "code",
   "execution_count": 7,
   "metadata": {
    "executionInfo": {
     "elapsed": 879,
     "status": "ok",
     "timestamp": 1607087424540,
     "user": {
      "displayName": "Otabek Nazarov",
      "photoUrl": "",
      "userId": "17472958537670277881"
     },
     "user_tz": -240
    },
    "id": "aEVwM_MW3dkJ"
   },
   "outputs": [],
   "source": [
    "#reviews unnecessary columns and join comments of the same listing_id\n",
    "class ReviewCleaner(TransformerMixin):\n",
    "\n",
    "    def transform(self, X, **transform_params):\n",
    "        str_comments = X['comments'].astype(str)\n",
    "        X = pd.DataFrame(X).assign(comments = str_comments)\n",
    "        X = X.groupby('listing_id')['comments'].apply(' '.join).reset_index()\n",
    "\n",
    "        vader_analyzer = SentimentIntensityAnalyzer()\n",
    "        X['sentiment'] = pd.Series(np.random.randn(len(X['comments'])), index=X.index)\n",
    "        X['sentiment'] = X['comments'].apply(lambda x: vader_analyzer.polarity_scores(x))\n",
    "        return X\n",
    "\n",
    "    def fit(self, X, y=None, **fit_params):\n",
    "        return self\n",
    "    \n",
    "reviews_cleaner = Pipeline([\n",
    "    ('clean reviews', ReviewCleaner())\n",
    "])"
   ]
  },
  {
   "cell_type": "code",
   "execution_count": 13,
   "metadata": {
    "executionInfo": {
     "elapsed": 13,
     "status": "ok",
     "timestamp": 1607088939186,
     "user": {
      "displayName": "Otabek Nazarov",
      "photoUrl": "",
      "userId": "17472958537670277881"
     },
     "user_tz": -240
    },
    "id": "-1uLkGCt3eel"
   },
   "outputs": [],
   "source": [
    "data_reviews_raw = data_reviews_csv.copy()\n",
    "data_reviews = reviews_cleaner.transform(data_reviews_raw)"
   ]
  },
  {
   "cell_type": "code",
   "execution_count": 14,
   "metadata": {
    "executionInfo": {
     "elapsed": 11924,
     "status": "ok",
     "timestamp": 1607088951146,
     "user": {
      "displayName": "Otabek Nazarov",
      "photoUrl": "",
      "userId": "17472958537670277881"
     },
     "user_tz": -240
    },
    "id": "yV2kLpR_3w4G"
   },
   "outputs": [],
   "source": [
    "data_reviews.to_csv(path + 'sentimented_reviews.csv', index = False)"
   ]
  }
 ],
 "metadata": {
  "colab": {
   "authorship_tag": "ABX9TyNSjwnzZkJGMJ5ug4bCqWkg",
   "collapsed_sections": [],
   "name": "Sentimentor",
   "provenance": []
  },
  "kernelspec": {
   "display_name": "Python 3",
   "language": "python",
   "name": "python3"
  },
  "language_info": {
   "codemirror_mode": {
    "name": "ipython",
    "version": 3
   },
   "file_extension": ".py",
   "mimetype": "text/x-python",
   "name": "python",
   "nbconvert_exporter": "python",
   "pygments_lexer": "ipython3",
   "version": "3.7.6"
  }
 },
 "nbformat": 4,
 "nbformat_minor": 1
}
