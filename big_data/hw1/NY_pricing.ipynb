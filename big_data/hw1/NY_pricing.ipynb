{
 "cells": [
  {
   "cell_type": "code",
   "execution_count": 1,
   "source": [
    "import pandas as pd\r\n",
    "import numpy as np"
   ],
   "outputs": [],
   "metadata": {}
  },
  {
   "cell_type": "code",
   "execution_count": 2,
   "source": [
    "# Read csv file\r\n",
    "filename = 'AB_NYC_2019.csv'\r\n",
    "data_df = pd.read_csv(filename)"
   ],
   "outputs": [],
   "metadata": {}
  },
  {
   "cell_type": "code",
   "execution_count": 3,
   "source": [
    "# Get prices array\r\n",
    "housing_prices = data_df['price'].values"
   ],
   "outputs": [],
   "metadata": {}
  },
  {
   "cell_type": "code",
   "execution_count": 4,
   "source": [
    "# Calculate the values\r\n",
    "print(f'Mean price: {housing_prices.mean()}')\r\n",
    "print(f'Variance of prices: {housing_prices.var()}')"
   ],
   "outputs": [
    {
     "output_type": "stream",
     "name": "stdout",
     "text": [
      "Mean price: 152.7206871868289\n",
      "Variance of prices: 57672.84569843359\n"
     ]
    }
   ],
   "metadata": {}
  },
  {
   "cell_type": "code",
   "execution_count": 5,
   "source": [
    "# Split array into two different shapes\r\n",
    "split_index = 30004\r\n",
    "first_part = housing_prices[:split_index].reshape(-1, 2)\r\n",
    "second_part = housing_prices[split_index:].reshape(-1, 3)"
   ],
   "outputs": [],
   "metadata": {}
  },
  {
   "cell_type": "code",
   "execution_count": 6,
   "source": [
    "# Save two files and then manually merge them after\r\n",
    "np.savetxt('prices_first.txt', first_part, fmt='%d')\r\n",
    "np.savetxt('prices_second.txt', second_part, fmt='%d')"
   ],
   "outputs": [],
   "metadata": {}
  }
 ],
 "metadata": {
  "orig_nbformat": 4,
  "language_info": {
   "name": "python",
   "version": "3.7.6",
   "mimetype": "text/x-python",
   "codemirror_mode": {
    "name": "ipython",
    "version": 3
   },
   "pygments_lexer": "ipython3",
   "nbconvert_exporter": "python",
   "file_extension": ".py"
  },
  "kernelspec": {
   "name": "python3",
   "display_name": "Python 3.7.6 64-bit ('base': conda)"
  },
  "interpreter": {
   "hash": "01d3c9224cc174bc56bbd2888263940a5880fd0049f07b52a3eb1a74a977a685"
  }
 },
 "nbformat": 4,
 "nbformat_minor": 2
}